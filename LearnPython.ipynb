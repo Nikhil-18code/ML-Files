{
 "cells": [
  {
   "cell_type": "code",
   "execution_count": 2,
   "id": "9db24fde",
   "metadata": {},
   "outputs": [
    {
     "name": "stdout",
     "output_type": "stream",
     "text": [
      "1 2 3 4 5 6 7 8 9 10 55\n"
     ]
    }
   ],
   "source": [
    "sum=0\n",
    "for i in range(1,11):\n",
    "    print(i,end=\" \")\n",
    "    sum=sum+i\n",
    "print(sum)"
   ]
  },
  {
   "cell_type": "code",
   "execution_count": 3,
   "id": "d9ec5145",
   "metadata": {},
   "outputs": [
    {
     "name": "stdout",
     "output_type": "stream",
     "text": [
      "11\n"
     ]
    }
   ],
   "source": [
    "#function with arguments\n",
    "def add():\n",
    "    a=6\n",
    "    b=5\n",
    "    return a+b\n",
    "print(add())"
   ]
  },
  {
   "cell_type": "code",
   "execution_count": 7,
   "id": "aa0d308e",
   "metadata": {},
   "outputs": [
    {
     "name": "stdout",
     "output_type": "stream",
     "text": [
      "5\n"
     ]
    }
   ],
   "source": [
    "#function with arguments\n",
    "def add(a,b):\n",
    "    return a+b\n",
    "print(add(2,3))"
   ]
  },
  {
   "cell_type": "code",
   "execution_count": 4,
   "id": "d2b581de",
   "metadata": {},
   "outputs": [],
   "source": [
    "def evenOdd(n):\n",
    "    countEven=0\n",
    "    countOdd=0\n",
    "    for i in range(1,n+1):\n",
    "        if i%2==0:\n",
    "            countEven=countEven+1\n",
    "        else:\n",
    "            countOdd=countOdd+1\n",
    "    print(countEven,\" \",countOdd)\n",
    "n=int(input(\"Enter a number: \"))       \n",
    "evenOdd(n)"
   ]
  },
  {
   "cell_type": "markdown",
   "id": "57acdbc4",
   "metadata": {},
   "source": [
    "def "
   ]
  },
  {
   "cell_type": "code",
   "execution_count": 13,
   "id": "4866471f",
   "metadata": {},
   "outputs": [
    {
     "data": {
      "text/plain": [
       "True"
      ]
     },
     "execution_count": 13,
     "metadata": {},
     "output_type": "execute_result"
    }
   ],
   "source": [
    "def checkPalindrome(str):\n",
    "    return str==str[: :-1]\n",
    "checkPalindrome(\"NikkiN\")"
   ]
  },
  {
   "cell_type": "markdown",
   "id": "760145f4",
   "metadata": {},
   "source": [
    "### database types --->list,tuple,dictionary\n",
    "\n"
   ]
  },
  {
   "cell_type": "markdown",
   "id": "2cf64c82",
   "metadata": {},
   "source": [
    "#list-->unordered database\n",
    "# list-->all type of data ,string ,number,boolean,etc..\n",
    "# list-->list is denoted by []"
   ]
  },
  {
   "cell_type": "code",
   "execution_count": 21,
   "id": "67afab1a",
   "metadata": {},
   "outputs": [
    {
     "name": "stdout",
     "output_type": "stream",
     "text": [
      "['Chudri', 'Vikas', 'Vikas Chaudhari']\n",
      "<class 'list'>\n",
      "['asJh', 'Chudri', 'Vikas', 'Vikas Chaudhari', 'sdoahdoa']\n"
     ]
    }
   ],
   "source": [
    "gandus=[\"Chudri\",\"Vikas\",\"Vikas Chaudhari\"]\n",
    "print(gandus)\n",
    "print(type(gandus))\n",
    "gandus.append(\"sdoahdoa\")#appends an element to last of the list\n",
    "gandus.insert(0,\"asJh\");\n",
    "print(gandus)"
   ]
  },
  {
   "cell_type": "code",
   "execution_count": 3,
   "id": "6ee2226a",
   "metadata": {},
   "outputs": [
    {
     "name": "stdout",
     "output_type": "stream",
     "text": [
      "[1, 2, 3, 4, 5, 1, 2, 3, 4, 5]\n",
      "[1, 2, 3, 4, 5, 1, 2, 3, 4, 5, 1, 2, 3, 4, 5]\n"
     ]
    }
   ],
   "source": [
    "#extend command\n",
    "l1=[1,2,3,4,5]\n",
    "l2=[1,2,3,4,5]\n",
    "print(l1+l2)\n",
    "l2.extend(l1+l2)\n",
    "print(l2);"
   ]
  },
  {
   "cell_type": "code",
   "execution_count": 6,
   "id": "58d28126",
   "metadata": {},
   "outputs": [
    {
     "name": "stdout",
     "output_type": "stream",
     "text": [
      "[2, 4, 6, 8, 10]\n",
      "[-1, 4, -3, 16, -5, 36, -7, 64, -9, 100]\n"
     ]
    }
   ],
   "source": [
    "#list->> list command--->Range function\n",
    "num=list(range(1,11))\n",
    "#print(num)\n",
    "#print(type(num))\n",
    "even=[]\n",
    "newList=[]\n",
    "for i in num:\n",
    "    if i%2==0:\n",
    "        even.append(i)\n",
    "print(even)\n",
    "for i in num:\n",
    "    if i%2==0:\n",
    "        newList.append(i*i)\n",
    "    else:\n",
    "        newList.append(-i)\n",
    "print(newList)"
   ]
  },
  {
   "cell_type": "code",
   "execution_count": 9,
   "id": "982dd092",
   "metadata": {},
   "outputs": [
    {
     "name": "stdout",
     "output_type": "stream",
     "text": [
      "['Harsh', 'Manish', 'manish']\n",
      "['hsinam', 'hsinaM', 'hsraH']\n"
     ]
    }
   ],
   "source": [
    "#Question 1\n",
    "name=['manish','Manish','Harsh']\n",
    "Name=['manish','Manish','Harsh']\n",
    "\n",
    "for i in Name:\n",
    "    rev.append(i[::-1])\n",
    "print(rev)\n",
    "    "
   ]
  },
  {
   "cell_type": "code",
   "execution_count": 13,
   "id": "c427efda",
   "metadata": {},
   "outputs": [
    {
     "name": "stdout",
     "output_type": "stream",
     "text": [
      "['Chetan', '31']\n",
      "Enter the string: gjkuy kiyg jhdfy''14\n",
      "['gjkuy', 'kiyg', \"jhdfy''14\"]\n"
     ]
    }
   ],
   "source": [
    "#spilt command--->to convert string into list around a delimiter or seprator\n",
    "name='Chetan,31'.split(',')\n",
    "print(name)\n",
    "\n",
    "user=input('Enter the string: ')\n",
    "print(user.split(\" \"))"
   ]
  },
  {
   "cell_type": "code",
   "execution_count": 17,
   "id": "74fc950a",
   "metadata": {},
   "outputs": [
    {
     "name": "stdout",
     "output_type": "stream",
     "text": [
      "Harsh is gamndu\n"
     ]
    }
   ],
   "source": [
    "#join command---->to convert list into string using a join and a seprator\n",
    "list=['Harsh','is','gamndu']\n",
    "print(' '.join(list))"
   ]
  },
  {
   "cell_type": "markdown",
   "id": "b205d498",
   "metadata": {},
   "source": [
    "# TUPLES\n",
    "1)Ordered database\n",
    "2)Secured Database\n",
    "3)all type of data\n",
    "4)Represented by---> () \n",
    "Following operations can not be done in tuples:\n",
    "    append, insert, pop, remove, del\n",
    "Follwing operations can be performed in tuples:\n",
    "    indexing, slicing, length, count"
   ]
  },
  {
   "cell_type": "code",
   "execution_count": 18,
   "id": "8107af5a",
   "metadata": {},
   "outputs": [
    {
     "data": {
      "text/plain": [
       "tuple"
      ]
     },
     "execution_count": 18,
     "metadata": {},
     "output_type": "execute_result"
    }
   ],
   "source": [
    "num=(1,2,3,4)\n",
    "type(num)\n"
   ]
  },
  {
   "cell_type": "code",
   "execution_count": 1,
   "id": "f26b5708",
   "metadata": {},
   "outputs": [
    {
     "name": "stdout",
     "output_type": "stream",
     "text": [
      "<class 'tuple'>\n"
     ]
    },
    {
     "data": {
      "text/plain": [
       "'nikhil'"
      ]
     },
     "execution_count": 1,
     "metadata": {},
     "output_type": "execute_result"
    }
   ],
   "source": [
    "#tuple without brackets\n",
    "name='Nikhil','nikhil'\n",
    "print(type(name))\n",
    "#Access elements in a tuple\n",
    "name1,name2=name\n",
    "name[1]"
   ]
  },
  {
   "cell_type": "code",
   "execution_count": null,
   "id": "7d0791b6",
   "metadata": {},
   "outputs": [],
   "source": []
  },
  {
   "cell_type": "code",
   "execution_count": 25,
   "id": "2c92a691",
   "metadata": {},
   "outputs": [
    {
     "name": "stdout",
     "output_type": "stream",
     "text": [
      "('Nikhil', '31', ['Book1', 'Book2'])\n",
      "('Nikhil', '31', ['Book1', 'Book2', 'Book4', 'Book3'])\n"
     ]
    }
   ],
   "source": [
    "user_info=('Nikhil','31',['Book1','Book2'])\n",
    "print(user_info)\n",
    "user_info[2].append('Book3')\n",
    "user_info[2].insert(2,'Book4')\n",
    "print(user_info)"
   ]
  },
  {
   "cell_type": "markdown",
   "id": "7c5febba",
   "metadata": {},
   "source": [
    "# dictionary\n",
    " All type of data,\n",
    " key:values,\n",
    " {}"
   ]
  },
  {
   "cell_type": "code",
   "execution_count": 37,
   "id": "89398a20",
   "metadata": {},
   "outputs": [
    {
     "name": "stdout",
     "output_type": "stream",
     "text": [
      "Not present\n",
      "Not present\n",
      "Present\n"
     ]
    }
   ],
   "source": [
    "user={'Name':'Nikhil','age':21}\n",
    "\n",
    "#other way of declaring a string\n",
    "user1=dict(name='Nky',gender='male')\n",
    "\n",
    "# how to apply if and else in dictionary\n",
    "if 'name' in user:\n",
    "    print('Present')\n",
    "else:\n",
    "    print('Not present')\n",
    "\n",
    "#values method\n",
    "\n",
    "if 'nikhil' in user.values():\n",
    "    print('present')\n",
    "else:\n",
    "    print('Not present')\n",
    "\n",
    "#items method\n",
    "\n",
    "if ('Name','Nikhil') in user.items():\n",
    "    print('Present')\n",
    "else:\n",
    "    print('Not Present')"
   ]
  },
  {
   "cell_type": "code",
   "execution_count": 41,
   "id": "d1bbaa85",
   "metadata": {
    "scrolled": true
   },
   "outputs": [
    {
     "name": "stdout",
     "output_type": "stream",
     "text": [
      "Name\n",
      "age\n",
      "Nikhil\n",
      "21\n",
      "Name:Nikhil\n",
      "age:21\n"
     ]
    }
   ],
   "source": [
    "# loops in dictionary\n",
    "user={'Name':'Nikhil','age':21}\n",
    "for i in user:\n",
    "    print(i)\n",
    "    \n",
    "#values Method\n",
    "for i in user.values():\n",
    "    print(i)\n",
    "for k,j in user.items():\n",
    "    print(f'{k}:{j}')"
   ]
  },
  {
   "cell_type": "code",
   "execution_count": 42,
   "id": "5e24adf9",
   "metadata": {},
   "outputs": [
    {
     "name": "stdout",
     "output_type": "stream",
     "text": [
      "{'Name': 'Nikhil', 'age': 21, 'state': 'Rajasthan', 'Sport': ['Sport1', 'Sport2']}\n"
     ]
    }
   ],
   "source": [
    "#update method\n",
    "user={'Name':'Nikhil','age':21}\n",
    "more_info={'state':'Rajasthan','Sport':['Sport1','Sport2']}\n",
    "user.update(more_info);\n",
    "print(user)"
   ]
  },
  {
   "cell_type": "markdown",
   "id": "1aedfb88",
   "metadata": {},
   "source": [
    "# Comprehension Command\n",
    "## Works only on list,tuples and dictionary"
   ]
  },
  {
   "cell_type": "code",
   "execution_count": 6,
   "id": "b95e72db",
   "metadata": {},
   "outputs": [
    {
     "name": "stdout",
     "output_type": "stream",
     "text": [
      "[1, 2, 3, 4, 5, 6, 7, 8, 9, 10]\n",
      "[1, 4, 9, 16, 25, 36, 49, 64, 81, 100]\n",
      "[1, 4, 9, 16, 25, 36, 49, 64, 81, 100]\n",
      "[4, 16, 36, 64, 100]\n",
      "[-1, 4, -3, 16, -5, 36, -7, 64, -9, 100]\n"
     ]
    }
   ],
   "source": [
    "# C.C on List\n",
    "#This is normal way\n",
    "num=list(range(1,11))\n",
    "print(num)\n",
    "new=[]\n",
    "for i in num:\n",
    "    new.append(i**2)\n",
    "print(new)\n",
    "\n",
    "#This is using C.C\n",
    "square=[i**2 for i in range(1,11)]\n",
    "print(square)\n",
    "\n",
    "#squaring even numbers\n",
    "square_even=[i**2 for i in range(1,11) if i%2==0]\n",
    "print(square_even)\n",
    "\n",
    "# odd ka negative and even ka square\n",
    "sq_eve=[i**2 if i%2==0 else -i for i in range(1,11)]\n",
    "print(sq_eve)"
   ]
  },
  {
   "cell_type": "code",
   "execution_count": 10,
   "id": "65d32fb6",
   "metadata": {},
   "outputs": [
    {
     "name": "stdout",
     "output_type": "stream",
     "text": [
      "{1: 1, 2: 4, 3: 9, 4: 16, 5: 25, 6: 36, 7: 49, 8: 64, 9: 81, 10: 100}\n",
      "{1: -1, 2: 4, 3: -3, 4: 16, 5: -5, 6: 36, 7: -7, 8: 64, 9: -9, 10: 100}\n"
     ]
    }
   ],
   "source": [
    "#comprehension command in dictionary\n",
    "#without comprehension\n",
    "def square(l):\n",
    "    d={}\n",
    "    for i in range(1,l+1):\n",
    "        d[i]=i**2\n",
    "    return d\n",
    "print(square(10))\n",
    "\n",
    "#Using Comprehension\n",
    "square={i:i**2  if i%2==0 else -i for i in range(1,11)}\n",
    "print(square)"
   ]
  },
  {
   "cell_type": "markdown",
   "id": "1dab0922",
   "metadata": {},
   "source": [
    "# args\n",
    "# kwargs\n",
    "# * operator\n"
   ]
  },
  {
   "cell_type": "code",
   "execution_count": 12,
   "id": "631017d7",
   "metadata": {},
   "outputs": [
    {
     "name": "stdout",
     "output_type": "stream",
     "text": [
      "(1, 2, 3, 4, 5)\n",
      "10\n"
     ]
    }
   ],
   "source": [
    "def add(*args):\n",
    "    return args\n",
    "print(add(1,2,3,4,5))\n",
    "\n",
    "def sum(*args):\n",
    "    total=0\n",
    "    for i in args:\n",
    "        total=total+i\n",
    "    return total\n",
    "print(sum(1,2,3,4))\n",
    "\n",
    "def rangeSum(*args):\n",
    "    total=0\n",
    "    for i in args:\n",
    "        total=total+i\n",
    "    return total\n",
    "n=int(input('Enter a range:'))\n",
    "num=list(range(1,n+1))\n",
    "print(add(*num)) #if we want to pass a list as args then we have to use * operator else it will throw error"
   ]
  },
  {
   "cell_type": "code",
   "execution_count": 15,
   "id": "82d9fc1b",
   "metadata": {},
   "outputs": [
    {
     "name": "stdout",
     "output_type": "stream",
     "text": [
      "(2, 3, 4, 5)\n",
      "1\n"
     ]
    }
   ],
   "source": [
    "# args with normal parameter\n",
    "def total(n,*args):\n",
    "    print(args)\n",
    "    print(n)\n",
    "total(1,2,3,4,5)"
   ]
  },
  {
   "cell_type": "code",
   "execution_count": 19,
   "id": "6d15f059",
   "metadata": {},
   "outputs": [
    {
     "name": "stdout",
     "output_type": "stream",
     "text": [
      "{'name': 'Harsh', 'age': '21'}\n"
     ]
    }
   ],
   "source": [
    "#kKwargs--->used for dictionary\n",
    "def func(**kwargs):\n",
    "    return kwargs\n",
    "print(func(name='Harsh',age='21'))"
   ]
  },
  {
   "cell_type": "markdown",
   "id": "72247390",
   "metadata": {},
   "source": [
    "# lambda function\n",
    "# lambda Variation"
   ]
  },
  {
   "cell_type": "code",
   "execution_count": 20,
   "id": "b27b4e09",
   "metadata": {},
   "outputs": [
    {
     "name": "stdout",
     "output_type": "stream",
     "text": [
      "9\n",
      "25\n"
     ]
    }
   ],
   "source": [
    "add=lambda a,b:a+b\n",
    "print(add(3,6))\n",
    "square=lambda a:a**2\n",
    "print(square(5))"
   ]
  },
  {
   "cell_type": "code",
   "execution_count": 24,
   "id": "aab4f97f",
   "metadata": {},
   "outputs": [
    {
     "name": "stdout",
     "output_type": "stream",
     "text": [
      "<map object at 0x0000014FDFB87940>\n",
      "[1, 4, 9, 16]\n",
      "(1, 4, 9, 16)\n",
      "[1, 4, 9, 16]\n",
      "['Odd', 'Even', 'Odd', 'Even']\n"
     ]
    }
   ],
   "source": [
    "# Map function --->system code mapping location\n",
    "# map(function,input)\n",
    "num=[1,2,3,4]\n",
    "def square(a):\n",
    "    return a**2\n",
    "print(map(square,num))\n",
    "print(list(map(square,num)))\n",
    "print(tuple(map(square,num)))\n",
    "\n",
    "#use lambda function\n",
    "print(list(map(lambda a:a**2,num)))\n",
    "print(list(map(lambda a:'Even' if a%2==0 else 'Odd',num)))"
   ]
  },
  {
   "cell_type": "markdown",
   "id": "cd55a13a",
   "metadata": {},
   "source": [
    "# filter function \n",
    "can perform only filtering of data,not any other operation"
   ]
  },
  {
   "cell_type": "code",
   "execution_count": 1,
   "id": "c90c3e9a",
   "metadata": {},
   "outputs": [
    {
     "name": "stdout",
     "output_type": "stream",
     "text": [
      "[2, 4, 6]\n",
      "[2, 4, 6]\n"
     ]
    }
   ],
   "source": [
    "num=[1,2,3,4,5,6]\n",
    "def square(a):\n",
    "    return a%2==0\n",
    "print(list(filter(square,num)))\n",
    "print(list(filter(lambda a:a%2==0,num)))"
   ]
  },
  {
   "cell_type": "markdown",
   "id": "c4873a36",
   "metadata": {},
   "source": [
    "# zip function"
   ]
  },
  {
   "cell_type": "code",
   "execution_count": 9,
   "id": "4b6a019e",
   "metadata": {},
   "outputs": [
    {
     "name": "stdout",
     "output_type": "stream",
     "text": [
      "[2.5, 3.5, 4.5]\n",
      "[2.5, 3.5, 4.5]\n"
     ]
    }
   ],
   "source": [
    "l1=[1,2,3]\n",
    "l2=[4,5,6]\n",
    "# l2=[4,5,6,7]\n",
    "# print(zip(l1,l2))\n",
    "# print(list(zip(l1,l2)))\n",
    "# print(tuple(zip(l1,l2)))\n",
    "\n",
    "user=['id1','id2','id3']\n",
    "name=['Nikhil','Kumar','Yadav']\n",
    "# print(list(zip(user,name)))\n",
    "# print(tuple(zip(user,name)))\n",
    "# print(dict(zip(user,name)))\n",
    "\n",
    "# find average of the tuples in list\n",
    "temp=list(zip(l1,l2))\n",
    "ans=[]\n",
    "for i in range(0,len(temp)):\n",
    "    ans.append((temp[i][0]+temp[i][1])/2)\n",
    "print(ans)\n",
    "\n",
    "# other way\n",
    "def average_finder(l1,l2):\n",
    "    average=[]\n",
    "    for pair in zip(l1,l2):\n",
    "        average.append(sum(pair)/len(pair))\n",
    "    print(average)\n",
    "average_finder(l1,l2)\n",
    "\n"
   ]
  },
  {
   "cell_type": "markdown",
   "id": "1f36ad10",
   "metadata": {},
   "source": [
    "# Break,Continue,Pass"
   ]
  },
  {
   "cell_type": "code",
   "execution_count": 12,
   "id": "00705bb2",
   "metadata": {},
   "outputs": [
    {
     "name": "stdout",
     "output_type": "stream",
     "text": [
      "1 2 3 4 5 6 7 8 9 10 "
     ]
    }
   ],
   "source": [
    "for i in range(1,11):\n",
    "    if i>=5 and i<=7:\n",
    "        pass\n",
    "    print(i,end=\" \")"
   ]
  },
  {
   "cell_type": "markdown",
   "id": "dfc7b83a",
   "metadata": {},
   "source": [
    "# Function returning function"
   ]
  },
  {
   "cell_type": "code",
   "execution_count": 20,
   "id": "82120162",
   "metadata": {},
   "outputs": [
    {
     "name": "stdout",
     "output_type": "stream",
     "text": [
      "This is a inner function Bye Bye\n"
     ]
    }
   ],
   "source": [
    "def outer(msg):\n",
    "    def inner():\n",
    "        print(f'This is a inner function {msg}')\n",
    "    return inner\n",
    "# outer()() This is also true\n",
    "var=outer('Bye Bye')\n",
    "var()"
   ]
  },
  {
   "cell_type": "markdown",
   "id": "ec458ebc",
   "metadata": {},
   "source": [
    "# Decorators->to increase functionality of other function"
   ]
  },
  {
   "cell_type": "code",
   "execution_count": 4,
   "id": "44a0e407",
   "metadata": {},
   "outputs": [
    {
     "name": "stdout",
     "output_type": "stream",
     "text": [
      "I am calling main function\n",
      "This is function1\n",
      "I am calling main function\n",
      "This is function2\n"
     ]
    }
   ],
   "source": [
    "def decorator(any_function):\n",
    "    def wrapper():\n",
    "        print('I am calling main function')\n",
    "        any_function()\n",
    "    return wrapper\n",
    "# 'I am calling main function'\n",
    "# def func1():\n",
    "#     print('This is function1')\n",
    "# def func2():\n",
    "#     print('This is function2')\n",
    "# var=decorator(func1)\n",
    "# var()\n",
    "@decorator\n",
    "def func1():\n",
    "    print('This is function1')\n",
    "func1()\n",
    "@decorator\n",
    "def func2():\n",
    "    print('This is function2')\n",
    "func2()\n",
    "\n",
    "    "
   ]
  },
  {
   "cell_type": "code",
   "execution_count": 7,
   "id": "f738524d",
   "metadata": {},
   "outputs": [
    {
     "name": "stdout",
     "output_type": "stream",
     "text": [
      "I am calling main function\n",
      "8\n"
     ]
    }
   ],
   "source": [
    "def decorator(any_function):\n",
    "    def wrapper(*args,**kwargs):\n",
    "        print('I am calling main function')\n",
    "        return any_function(*args,**kwargs)\n",
    "    return wrapper\n",
    "@decorator\n",
    "def add(a,b):\n",
    "    return a+b\n",
    "print(add(2,6))\n",
    "    "
   ]
  },
  {
   "cell_type": "markdown",
   "id": "d68ea803",
   "metadata": {},
   "source": []
  },
  {
   "cell_type": "code",
   "execution_count": null,
   "id": "c84fe938",
   "metadata": {},
   "outputs": [],
   "source": []
  },
  {
   "cell_type": "code",
   "execution_count": null,
   "id": "e6bf14e5",
   "metadata": {},
   "outputs": [],
   "source": []
  }
 ],
 "metadata": {
  "kernelspec": {
   "display_name": "Python 3 (ipykernel)",
   "language": "python",
   "name": "python3"
  },
  "language_info": {
   "codemirror_mode": {
    "name": "ipython",
    "version": 3
   },
   "file_extension": ".py",
   "mimetype": "text/x-python",
   "name": "python",
   "nbconvert_exporter": "python",
   "pygments_lexer": "ipython3",
   "version": "3.9.6"
  },
  "vscode": {
   "interpreter": {
    "hash": "84b97d9c5b28c6fbb9ea798c3e2aebb81c266ca4a1d45a52bb5592f75b63defd"
   }
  }
 },
 "nbformat": 4,
 "nbformat_minor": 5
}
