{
 "cells": [
  {
   "cell_type": "markdown",
   "id": "a08ed614",
   "metadata": {},
   "source": [
    "# OOPS(Object Oriented Programming)"
   ]
  },
  {
   "cell_type": "code",
   "execution_count": 19,
   "id": "86f81500",
   "metadata": {},
   "outputs": [
    {
     "name": "stdout",
     "output_type": "stream",
     "text": [
      "Manish Shah\n",
      "Lover\n",
      "Manish ShahLover\n",
      "Nikhil Yadav\n"
     ]
    }
   ],
   "source": [
    "#class\n",
    "class person:\n",
    "    def __init__(self,fname,lname,age):\n",
    "        self.fname=fname\n",
    "        self.lname=lname\n",
    "        self.age=age\n",
    "        self.fullname=fname+lname;\n",
    "        \n",
    "    def full_name(self):\n",
    "        return f'{self.fname} {self.lname}'\n",
    "p1=person('Nikhil','Yadav',21)\n",
    "p2=person('Manish Shah','Lover',22)\n",
    "print(p2.fname)\n",
    "print(p2.lname)\n",
    "print(p2.fullname)\n",
    "print(p1.full_name())"
   ]
  },
  {
   "cell_type": "code",
   "execution_count": 30,
   "id": "752d8d74",
   "metadata": {},
   "outputs": [
    {
     "name": "stdout",
     "output_type": "stream",
     "text": [
      "Enter the discount:100\n",
      "HP M4S1BRBG\n",
      "0.0\n"
     ]
    }
   ],
   "source": [
    "class laptop:\n",
    "    def __init__(self,brand,model,price):\n",
    "        self.brand=brand\n",
    "        self.model=model\n",
    "        self.price=price\n",
    "        \n",
    "    def brand_name(self):\n",
    "        return f'{self.brand} {self.model}'\n",
    "    \n",
    "    def discount(self):\n",
    "        off_price=(n/100)*self.price #to use class variable 'n' use laptop.n\n",
    "        return self.price-off_price\n",
    "    \n",
    "n=int(input('Enter the discount:'))\n",
    "lap1=laptop('HP',\"M4S1BRBG\",53000)\n",
    "print(lap1.brand_name())\n",
    "print(lap1.discount())"
   ]
  },
  {
   "cell_type": "code",
   "execution_count": 32,
   "id": "79c7c4c2",
   "metadata": {},
   "outputs": [
    {
     "name": "stdout",
     "output_type": "stream",
     "text": [
      "3\n",
      "you have created 3 instance of laptop class\n"
     ]
    }
   ],
   "source": [
    "# instance count\n",
    "# class method\n",
    "\n",
    "class laptop:\n",
    "    count_instance=0\n",
    "    def __init__(self,brand,model,price):\n",
    "        laptop.count_instance=laptop.count_instance+1\n",
    "        self.brand=brand\n",
    "        self.model=model\n",
    "        self.price=price\n",
    "    \n",
    "    @classmethod\n",
    "    def instance_count(cls):\n",
    "        return f'you have created {cls.count_instance} instance of laptop class'\n",
    "\n",
    "l1=laptop('HP','M4S1BRBG',53000)\n",
    "l2=laptop('DELL','M4S1BRBG',50000)\n",
    "l3=laptop('ACER','M4S1BRBG',54000)\n",
    "print(laptop.count_instance)\n",
    "print(laptop.instance_count())"
   ]
  },
  {
   "cell_type": "markdown",
   "id": "ab81cb37",
   "metadata": {},
   "source": [
    "# Inheritance"
   ]
  },
  {
   "cell_type": "code",
   "execution_count": 34,
   "id": "ca1324d9",
   "metadata": {},
   "outputs": [
    {
     "name": "stdout",
     "output_type": "stream",
     "text": [
      "OnePlus\n"
     ]
    }
   ],
   "source": [
    "# with and without super keyword\n",
    "class phone: #parent/Base class\n",
    "    def __init__(self,brand,model,price):\n",
    "        self.brand=brand\n",
    "        self.model=model\n",
    "        self.price=price\n",
    "        \n",
    "    def full_name(self):\n",
    "        return f'{self.brand}'\n",
    "        \n",
    "class smart_phone(phone): #child class\n",
    "    def __init__(self,brand,model,price,ram,memory):\n",
    "        #phone.__init__(self,brand,model,price)\n",
    "        super().__init__(brand,model,price)    \n",
    "        self.ram=ram\n",
    "        self.memory=memory\n",
    "\n",
    "p1=phone('Nokia','1100',1000)\n",
    "p2=smart_phone('OnePlus','5',30000,'16GB','128GB')\n",
    "print(p2.full_name())"
   ]
  },
  {
   "cell_type": "code",
   "execution_count": 5,
   "id": "265c4f87",
   "metadata": {},
   "outputs": [
    {
     "name": "stdout",
     "output_type": "stream",
     "text": [
      "Nokia\n",
      "OnePlus 30000\n",
      "Mi 30000\n"
     ]
    }
   ],
   "source": [
    "# multi-inheritance\n",
    "class phone: #parent/Base class\n",
    "    def __init__(self,brand,model,price):\n",
    "        self.brand=brand\n",
    "        self.model=model\n",
    "        self.price=price\n",
    "        \n",
    "    def full_name(self):\n",
    "        return f'{self.brand}'\n",
    "        \n",
    "class smart_phone(phone): #child class\n",
    "    def __init__(self,brand,model,price,ram,memory):\n",
    "        #phone.__init__(self,brand,model,price)\n",
    "        super().__init__(brand,model,price)    \n",
    "        self.ram=ram\n",
    "        self.memory=memory\n",
    "        \n",
    "    def full_name(self):\n",
    "        return f'{self.brand} {self.price}'\n",
    "\n",
    "class super_smart_phone(smart_phone):\n",
    "    def __init__(self,brand,model,price,ram,memory,camera):\n",
    "        smart_phone.__init__(self,brand,model,price,ram,memory)\n",
    "        self.camera=camera\n",
    "\n",
    "p1=phone('Nokia','1100',1000)\n",
    "p2=smart_phone('OnePlus','5',30000,'16GB','128GB')\n",
    "p3=super_smart_phone('Mi','11s',30000,'12GB','1TB','150mpx')\n",
    "print(p1.full_name())\n",
    "print(p2.full_name())\n",
    "print(p3.full_name())"
   ]
  },
  {
   "cell_type": "code",
   "execution_count": null,
   "id": "a43083a9",
   "metadata": {},
   "outputs": [],
   "source": []
  }
 ],
 "metadata": {
  "kernelspec": {
   "display_name": "Python 3 (ipykernel)",
   "language": "python",
   "name": "python3"
  },
  "language_info": {
   "codemirror_mode": {
    "name": "ipython",
    "version": 3
   },
   "file_extension": ".py",
   "mimetype": "text/x-python",
   "name": "python",
   "nbconvert_exporter": "python",
   "pygments_lexer": "ipython3",
   "version": "3.9.6"
  }
 },
 "nbformat": 4,
 "nbformat_minor": 5
}
