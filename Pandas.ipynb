{
 "cells": [
  {
   "cell_type": "code",
   "execution_count": 2,
   "id": "81c8c574",
   "metadata": {},
   "outputs": [
    {
     "name": "stdout",
     "output_type": "stream",
     "text": [
      "Collecting pandas\n",
      "  Downloading pandas-1.4.3-cp39-cp39-win_amd64.whl (10.6 MB)\n",
      "Requirement already satisfied: numpy>=1.18.5 in c:\\users\\nikhil\\appdata\\local\\programs\\python\\python39\\lib\\site-packages (from pandas) (1.23.1)\n",
      "Collecting pytz>=2020.1\n",
      "  Downloading pytz-2022.1-py2.py3-none-any.whl (503 kB)\n",
      "Requirement already satisfied: python-dateutil>=2.8.1 in c:\\users\\nikhil\\appdata\\local\\programs\\python\\python39\\lib\\site-packages (from pandas) (2.8.2)\n",
      "Requirement already satisfied: six>=1.5 in c:\\users\\nikhil\\appdata\\local\\programs\\python\\python39\\lib\\site-packages (from python-dateutil>=2.8.1->pandas) (1.16.0)\n",
      "Installing collected packages: pytz, pandas\n",
      "Successfully installed pandas-1.4.3 pytz-2022.1\n",
      "Note: you may need to restart the kernel to use updated packages.\n"
     ]
    },
    {
     "name": "stderr",
     "output_type": "stream",
     "text": [
      "WARNING: You are using pip version 21.1.3; however, version 22.2.1 is available.\n",
      "You should consider upgrading via the 'c:\\users\\nikhil\\appdata\\local\\programs\\python\\python39\\python.exe -m pip install --upgrade pip' command.\n"
     ]
    }
   ],
   "source": [
    "pip install pandas"
   ]
  },
  {
   "cell_type": "code",
   "execution_count": 1,
   "id": "033178e6",
   "metadata": {},
   "outputs": [
    {
     "name": "stdout",
     "output_type": "stream",
     "text": [
      "Monday       Apple\n",
      "Tuesday      Mango\n",
      "Wednesday     Kiwi\n",
      "dtype: object\n",
      "0    Apple\n",
      "1    Mango\n",
      "2     Kiwi\n",
      "dtype: object\n"
     ]
    }
   ],
   "source": [
    "import pandas as pd\n",
    "fruits=['Apple','Mango','Kiwi']\n",
    "\n",
    "# Series command\n",
    "# d=pd.Series(fruits)\n",
    "# print(d)\n",
    "week=['Monday','Tuesday','Wednesday']\n",
    "d=pd.Series(fruits,week)\n",
    "print(d)\n",
    "\n",
    "\n",
    "fruits=['Apple','Mango','Kiwi']\n",
    "\n",
    "# Series command\n",
    "# d=pd.Series(fruits)\n",
    "# print(d)\n",
    "d=pd.Series(fruits)\n",
    "print(d)\n"
   ]
  },
  {
   "cell_type": "markdown",
   "id": "d5055123",
   "metadata": {},
   "source": [
    "# Commands"
   ]
  },
  {
   "cell_type": "code",
   "execution_count": 17,
   "id": "3e77e725",
   "metadata": {},
   "outputs": [
    {
     "name": "stdout",
     "output_type": "stream",
     "text": [
      "['Apple' 'Mango' 'Kiwi']\n",
      "RangeIndex(start=0, stop=3, step=1)\n",
      "0    1.23\n",
      "1    4.00\n",
      "2    5.00\n",
      "3    6.00\n",
      "4    7.00\n",
      "5    7.80\n",
      "dtype: float64\n",
      "Sum= 31.03 , Mean= 5.171666666666667 Product= 8058.960000000002\n"
     ]
    }
   ],
   "source": [
    "# 1) values command\n",
    "print(d.values)\n",
    "\n",
    "# 2)index command\n",
    "print(d.index)\n",
    "\n",
    "rates=[1.23,4,5,6,7,7.8]\n",
    "s=pd.Series(rates)\n",
    "print(s)\n",
    "print(f'Sum= {s.sum()} , Mean= {s.mean()} Product= {s.product()}')"
   ]
  },
  {
   "cell_type": "code",
   "execution_count": 3,
   "id": "1f9a09d8",
   "metadata": {},
   "outputs": [
    {
     "name": "stdout",
     "output_type": "stream",
     "text": [
      "        Pokemon     Type\n",
      "0     Bulbasaur    Grass\n",
      "1       Ivysaur    Grass\n",
      "2      Venusaur    Grass\n",
      "3    Charmander     Fire\n",
      "4    Charmeleon     Fire\n",
      "..          ...      ...\n",
      "716     Yveltal     Dark\n",
      "717     Zygarde   Dragon\n",
      "718     Diancie     Rock\n",
      "719       Hoopa  Psychic\n",
      "720   Volcanion     Fire\n",
      "\n",
      "[721 rows x 2 columns]\n"
     ]
    }
   ],
   "source": [
    "data=pd.read_csv('pokemon.csv')\n",
    "print(data)"
   ]
  },
  {
   "cell_type": "code",
   "execution_count": 28,
   "id": "35f80fc1",
   "metadata": {},
   "outputs": [
    {
     "name": "stdout",
     "output_type": "stream",
     "text": [
      "      Pokemon   Type\n",
      "0   Bulbasaur  Grass\n",
      "1     Ivysaur  Grass\n",
      "2    Venusaur  Grass\n",
      "3  Charmander   Fire\n",
      "4  Charmeleon   Fire\n",
      "5   Charizard   Fire\n",
      "6    Squirtle  Water\n",
      "7   Wartortle  Water\n",
      "8   Blastoise  Water\n",
      "9    Caterpie    Bug\n",
      "       Pokemon     Type\n",
      "711   Bergmite      Ice\n",
      "712    Avalugg      Ice\n",
      "713     Noibat   Flying\n",
      "714    Noivern   Flying\n",
      "715    Xerneas    Fairy\n",
      "716    Yveltal     Dark\n",
      "717    Zygarde   Dragon\n",
      "718    Diancie     Rock\n",
      "719      Hoopa  Psychic\n",
      "720  Volcanion     Fire\n"
     ]
    }
   ],
   "source": [
    "# 3) Head Command # By default first 5 datas are shown\n",
    "# print(data.head())\n",
    "print(data.head(10))\n",
    "\n",
    "# 4) Tail Command # By default last 5 rows will be shown\n",
    "print(data.tail(10))\n",
    "\n"
   ]
  },
  {
   "cell_type": "code",
   "execution_count": 35,
   "id": "a6fe9765",
   "metadata": {},
   "outputs": [
    {
     "name": "stdout",
     "output_type": "stream",
     "text": [
      "RangeIndex(start=0, stop=721, step=1)\n",
      "Index(['Pokemon', 'Type'], dtype='object')\n",
      "<class 'pandas.core.frame.DataFrame'>\n",
      "RangeIndex: 721 entries, 0 to 720\n",
      "Data columns (total 2 columns):\n",
      " #   Column   Non-Null Count  Dtype \n",
      "---  ------   --------------  ----- \n",
      " 0   Pokemon  721 non-null    object\n",
      " 1   Type     721 non-null    object\n",
      "dtypes: object(2)\n",
      "memory usage: 11.4+ KB\n",
      "None\n"
     ]
    }
   ],
   "source": [
    "# 5) Index Command\n",
    "print(data.index)\n",
    "# 6) columns Command\n",
    "print(data.columns)\n",
    "# 7) info Command\n",
    "print(data.info())"
   ]
  },
  {
   "cell_type": "code",
   "execution_count": 64,
   "id": "6b6c6446",
   "metadata": {},
   "outputs": [
    {
     "name": "stdout",
     "output_type": "stream",
     "text": [
      "True\n",
      "1\n",
      "(721,) 721\n",
      "717      Zygarde\n",
      "633     Zweilous\n",
      "40         Zubat\n",
      "569        Zorua\n",
      "570      Zoroark\n",
      "         ...    \n",
      "680    Aegislash\n",
      "616     Accelgor\n",
      "358        Absol\n",
      "62          Abra\n",
      "459    Abomasnow\n",
      "Name: Pokemon, Length: 721, dtype: object\n"
     ]
    },
    {
     "name": "stderr",
     "output_type": "stream",
     "text": [
      "C:\\Users\\Nikhil\\AppData\\Local\\Temp\\ipykernel_14768\\1873207282.py:2: FutureWarning: The squeeze argument has been deprecated and will be removed in a future version. Append .squeeze(\"columns\") to the call to squeeze.\n",
      "\n",
      "\n",
      "  data=pd.read_csv('pokemon.csv',squeeze=True,usecols=['Pokemon']) #convert a particular column into series\n"
     ]
    }
   ],
   "source": [
    "# 8) read_csv() Command\n",
    "data=pd.read_csv('pokemon.csv',squeeze=True,usecols=['Pokemon']) #convert a particular column into series\n",
    "# print(data)\n",
    "\n",
    "# 9)is_unique Command\n",
    "print(data.is_unique)\n",
    "\n",
    "# 10) ndim command\n",
    "# print(data.ndim)\n",
    "\n",
    "# 11) shape and size command\n",
    "# print(data.shape,data.size)\n",
    "\n",
    "# 12) sort_values Command\n",
    "# print(data.sort_values()) # Sort in ascending order\n",
    "print(data.sort_values(ascending=False,inplace=False)) # sort in descending order"
   ]
  },
  {
   "cell_type": "code",
   "execution_count": 15,
   "id": "bfe9ec3d",
   "metadata": {},
   "outputs": [
    {
     "name": "stderr",
     "output_type": "stream",
     "text": [
      "C:\\Users\\Nikhil\\AppData\\Local\\Temp\\ipykernel_7144\\3849449788.py:2: FutureWarning: The squeeze argument has been deprecated and will be removed in a future version. Append .squeeze(\"columns\") to the call to squeeze.\n",
      "\n",
      "\n",
      "  data=pd.read_csv('pokemon.csv',squeeze=True,index_col='Pokemon')\n"
     ]
    },
    {
     "data": {
      "text/plain": [
       "Pokemon\n",
       "Abomasnow      Grass\n",
       "Abra         Psychic\n",
       "Absol           Dark\n",
       "Accelgor         Bug\n",
       "Aegislash      Steel\n",
       "Name: Type, dtype: object"
      ]
     },
     "execution_count": 15,
     "metadata": {},
     "output_type": "execute_result"
    }
   ],
   "source": [
    "# 12) sort_index\n",
    "data=pd.read_csv('pokemon.csv',squeeze=True,index_col='Pokemon')\n",
    "data.sort_index(inplace=True)\n",
    "data.head(5)"
   ]
  },
  {
   "cell_type": "code",
   "execution_count": 29,
   "id": "247d9350",
   "metadata": {
    "scrolled": true
   },
   "outputs": [
    {
     "name": "stderr",
     "output_type": "stream",
     "text": [
      "C:\\Users\\Nikhil\\AppData\\Local\\Temp\\ipykernel_7144\\2814968333.py:2: FutureWarning: The squeeze argument has been deprecated and will be removed in a future version. Append .squeeze(\"columns\") to the call to squeeze.\n",
      "\n",
      "\n",
      "  data=pd.read_csv('pokemon.csv',squeeze=True,usecols=['Pokemon'])\n"
     ]
    },
    {
     "data": {
      "text/plain": [
       "671        Skiddo\n",
       "672        Gogoat\n",
       "673       Pancham\n",
       "674       Pangoro\n",
       "675       Furfrou\n",
       "676        Espurr\n",
       "677      Meowstic\n",
       "678       Honedge\n",
       "679      Doublade\n",
       "680     Aegislash\n",
       "681      Spritzee\n",
       "682    Aromatisse\n",
       "683       Swirlix\n",
       "684      Slurpuff\n",
       "685         Inkay\n",
       "686       Malamar\n",
       "687       Binacle\n",
       "688    Barbaracle\n",
       "689        Skrelp\n",
       "690      Dragalge\n",
       "Name: Pokemon, dtype: object"
      ]
     },
     "execution_count": 29,
     "metadata": {},
     "output_type": "execute_result"
    }
   ],
   "source": [
    "# how to fech data according to index number\n",
    "data=pd.read_csv('pokemon.csv',squeeze=True,usecols=['Pokemon'])\n",
    "# data[[10,20,30]]\n",
    "# data[:80]\n",
    "data[0:80:2]\n",
    "data[-50:-30]"
   ]
  },
  {
   "cell_type": "code",
   "execution_count": 35,
   "id": "915bf245",
   "metadata": {},
   "outputs": [
    {
     "name": "stderr",
     "output_type": "stream",
     "text": [
      "C:\\Users\\Nikhil\\AppData\\Local\\Temp\\ipykernel_7144\\777808618.py:1: FutureWarning: The squeeze argument has been deprecated and will be removed in a future version. Append .squeeze(\"columns\") to the call to squeeze.\n",
      "\n",
      "\n",
      "  data=pd.read_csv('pokemon.csv',squeeze=True,index_col=['Pokemon'])\n"
     ]
    },
    {
     "data": {
      "text/plain": [
       "Pokemon\n",
       "Bulbasaur     Grass\n",
       "Ivysaur       Grass\n",
       "Venusaur      Grass\n",
       "Charmander     Fire\n",
       "Charmeleon     Fire\n",
       "Name: Type, dtype: object"
      ]
     },
     "execution_count": 35,
     "metadata": {},
     "output_type": "execute_result"
    }
   ],
   "source": [
    "data=pd.read_csv('pokemon.csv',squeeze=True,index_col=['Pokemon'])\n",
    "data\n",
    "data[3]\n",
    "data[:'Charmeleon']"
   ]
  },
  {
   "cell_type": "code",
   "execution_count": 37,
   "id": "e31fbd87",
   "metadata": {},
   "outputs": [
    {
     "name": "stderr",
     "output_type": "stream",
     "text": [
      "C:\\Users\\Nikhil\\AppData\\Local\\Temp\\ipykernel_7144\\3398015118.py:1: FutureWarning: The squeeze argument has been deprecated and will be removed in a future version. Append .squeeze(\"columns\") to the call to squeeze.\n",
      "\n",
      "\n",
      "  data=pd.read_csv('pokemon.csv',squeeze=True,index_col=['Pokemon'])\n"
     ]
    },
    {
     "data": {
      "text/plain": [
       "Pokemon\n",
       "Abomasnow      Grass\n",
       "Abra         Psychic\n",
       "Absol           Dark\n",
       "Accelgor         Bug\n",
       "Aegislash      Steel\n",
       "              ...   \n",
       "Zoroark         Dark\n",
       "Zorua           Dark\n",
       "Zubat         Poison\n",
       "Zweilous        Dark\n",
       "Zygarde       Dragon\n",
       "Name: Type, Length: 721, dtype: object"
      ]
     },
     "execution_count": 37,
     "metadata": {},
     "output_type": "execute_result"
    }
   ],
   "source": [
    "data=pd.read_csv('pokemon.csv',squeeze=True,index_col=['Pokemon'])\n",
    "data.sort_index(inplace=True)\n",
    "data"
   ]
  },
  {
   "cell_type": "code",
   "execution_count": 44,
   "id": "0fe8ea0c",
   "metadata": {},
   "outputs": [
    {
     "data": {
      "text/plain": [
       "Pokemon\n",
       "Abra     Psychic\n",
       "Absol       Dark\n",
       "Name: Type, dtype: object"
      ]
     },
     "execution_count": 44,
     "metadata": {},
     "output_type": "execute_result"
    }
   ],
   "source": [
    "# 13) get command\n",
    "data.get('Zorua')\n",
    "data.get(['Abra','Absol'])\n",
    "# key=['Abra','Absol']\n",
    "# data.get(key)\n",
    "data.get(key=['Abra','Absol'])"
   ]
  },
  {
   "cell_type": "markdown",
   "id": "0653aaad",
   "metadata": {},
   "source": [
    "# Reading new File"
   ]
  },
  {
   "cell_type": "code",
   "execution_count": 1,
   "id": "1ba6a4e7",
   "metadata": {},
   "outputs": [
    {
     "name": "stderr",
     "output_type": "stream",
     "text": [
      "C:\\Users\\Nikhil\\AppData\\Local\\Temp\\ipykernel_5416\\3374976232.py:2: FutureWarning: The squeeze argument has been deprecated and will be removed in a future version. Append .squeeze(\"columns\") to the call to squeeze.\n",
      "\n",
      "\n",
      "  data=pd.read_csv(\"google_stock_price.csv\",squeeze=True)\n"
     ]
    },
    {
     "data": {
      "text/plain": [
       "782.22"
      ]
     },
     "execution_count": 1,
     "metadata": {},
     "output_type": "execute_result"
    }
   ],
   "source": [
    "import pandas as pd\n",
    "data=pd.read_csv(\"google_stock_price.csv\",squeeze=True)\n",
    "data.head()\n",
    "data.count()\n",
    "len(data)\n",
    "data.mean()\n",
    "data.sum()/len(data)\n",
    "data.std()  #standared deviation \n",
    "data.min()\n",
    "data.max()"
   ]
  },
  {
   "cell_type": "code",
   "execution_count": 3,
   "id": "ebc5bea4",
   "metadata": {},
   "outputs": [
    {
     "name": "stderr",
     "output_type": "stream",
     "text": [
      "C:\\Users\\Nikhil\\AppData\\Local\\Temp\\ipykernel_5416\\2659482956.py:2: FutureWarning: The squeeze argument has been deprecated and will be removed in a future version. Append .squeeze(\"columns\") to the call to squeeze.\n",
      "\n",
      "\n",
      "  data=pd.read_csv(\"google_stock_price.csv\",squeeze=True)\n"
     ]
    },
    {
     "data": {
      "text/plain": [
       "0        50.12\n",
       "1        54.10\n",
       "2        54.65\n",
       "3        52.38\n",
       "4        52.95\n",
       "         ...  \n",
       "3007    772.88\n",
       "3008    771.07\n",
       "3009    773.18\n",
       "3010    771.61\n",
       "3011    782.22\n",
       "Name: Stock Price, Length: 3012, dtype: float64"
      ]
     },
     "execution_count": 3,
     "metadata": {},
     "output_type": "execute_result"
    }
   ],
   "source": [
    "import pandas as pd\n",
    "data=pd.read_csv(\"google_stock_price.csv\",squeeze=True)\n",
    "data"
   ]
  },
  {
   "cell_type": "code",
   "execution_count": null,
   "id": "759e2732",
   "metadata": {},
   "outputs": [],
   "source": []
  }
 ],
 "metadata": {
  "kernelspec": {
   "display_name": "Python 3 (ipykernel)",
   "language": "python",
   "name": "python3"
  },
  "language_info": {
   "codemirror_mode": {
    "name": "ipython",
    "version": 3
   },
   "file_extension": ".py",
   "mimetype": "text/x-python",
   "name": "python",
   "nbconvert_exporter": "python",
   "pygments_lexer": "ipython3",
   "version": "3.9.6"
  },
  "vscode": {
   "interpreter": {
    "hash": "84b97d9c5b28c6fbb9ea798c3e2aebb81c266ca4a1d45a52bb5592f75b63defd"
   }
  }
 },
 "nbformat": 4,
 "nbformat_minor": 5
}
